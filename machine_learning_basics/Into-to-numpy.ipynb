{
 "cells": [
  {
   "cell_type": "code",
   "execution_count": 3,
   "id": "9ed9bfcb",
   "metadata": {},
   "outputs": [],
   "source": [
    "import numpy as np"
   ]
  },
  {
   "cell_type": "code",
   "execution_count": 3,
   "id": "c783bcea",
   "metadata": {},
   "outputs": [
    {
     "data": {
      "text/plain": [
       "array([1, 2, 3])"
      ]
     },
     "execution_count": 3,
     "metadata": {},
     "output_type": "execute_result"
    }
   ],
   "source": [
    "a1 = np.array([1,2,3])\n",
    "a1"
   ]
  },
  {
   "cell_type": "code",
   "execution_count": 3,
   "id": "94e147db",
   "metadata": {},
   "outputs": [
    {
     "data": {
      "text/plain": [
       "numpy.ndarray"
      ]
     },
     "execution_count": 3,
     "metadata": {},
     "output_type": "execute_result"
    }
   ],
   "source": [
    "type(a1)"
   ]
  },
  {
   "cell_type": "code",
   "execution_count": 4,
   "id": "41668e9f",
   "metadata": {},
   "outputs": [
    {
     "data": {
      "text/plain": [
       "array([[1, 2, 3],\n",
       "       [4, 5, 6]])"
      ]
     },
     "execution_count": 4,
     "metadata": {},
     "output_type": "execute_result"
    }
   ],
   "source": [
    "a2 = np.array([\n",
    "    [ 1,2,3 ] ,\n",
    "    [4,5,6]\n",
    "])\n",
    "a2"
   ]
  },
  {
   "cell_type": "markdown",
   "id": "e2f29431",
   "metadata": {},
   "source": [
    "# Creating Arrays"
   ]
  },
  {
   "cell_type": "code",
   "execution_count": 12,
   "id": "132af0bd",
   "metadata": {},
   "outputs": [],
   "source": [
    "ones = np.ones((5,3))"
   ]
  },
  {
   "cell_type": "code",
   "execution_count": 13,
   "id": "08437560",
   "metadata": {},
   "outputs": [
    {
     "data": {
      "text/plain": [
       "array([[1., 1., 1.],\n",
       "       [1., 1., 1.],\n",
       "       [1., 1., 1.],\n",
       "       [1., 1., 1.],\n",
       "       [1., 1., 1.]])"
      ]
     },
     "execution_count": 13,
     "metadata": {},
     "output_type": "execute_result"
    }
   ],
   "source": [
    "ones"
   ]
  },
  {
   "cell_type": "code",
   "execution_count": 14,
   "id": "1afb3d04",
   "metadata": {},
   "outputs": [
    {
     "data": {
      "text/plain": [
       "array([[0., 0., 0., 0.],\n",
       "       [0., 0., 0., 0.]])"
      ]
     },
     "execution_count": 14,
     "metadata": {},
     "output_type": "execute_result"
    }
   ],
   "source": [
    "zeros = np.zeros((2,4))\n",
    "zeros"
   ]
  },
  {
   "cell_type": "code",
   "execution_count": 15,
   "id": "532b4343",
   "metadata": {},
   "outputs": [
    {
     "data": {
      "text/plain": [
       "array([ 0,  1,  2,  3,  4,  5,  6,  7,  8,  9, 10, 11, 12, 13, 14, 15, 16,\n",
       "       17, 18, 19])"
      ]
     },
     "execution_count": 15,
     "metadata": {},
     "output_type": "execute_result"
    }
   ],
   "source": [
    "range = np.arange(0,20,1)\n",
    "range"
   ]
  },
  {
   "cell_type": "code",
   "execution_count": 17,
   "id": "f18e4899",
   "metadata": {},
   "outputs": [
    {
     "data": {
      "text/plain": [
       "array([[0.80958597, 0.49645488, 0.89291419],\n",
       "       [0.64143523, 0.94533551, 0.65890752],\n",
       "       [0.5763115 , 0.44573436, 0.50620671],\n",
       "       [0.11837435, 0.03150781, 0.64768763]])"
      ]
     },
     "execution_count": 17,
     "metadata": {},
     "output_type": "execute_result"
    }
   ],
   "source": [
    "random = np.random.random(size=(4,3))\n",
    "random"
   ]
  },
  {
   "cell_type": "code",
   "execution_count": 18,
   "id": "18aaddce",
   "metadata": {},
   "outputs": [
    {
     "data": {
      "text/plain": [
       "12"
      ]
     },
     "execution_count": 18,
     "metadata": {},
     "output_type": "execute_result"
    }
   ],
   "source": [
    "random.size"
   ]
  },
  {
   "cell_type": "code",
   "execution_count": 26,
   "id": "9f7aa262",
   "metadata": {},
   "outputs": [
    {
     "data": {
      "text/plain": [
       "array([[[[0.4359949 , 0.02592623, 0.54966248, 0.43532239, 0.4203678 ]],\n",
       "\n",
       "        [[0.33033482, 0.20464863, 0.61927097, 0.29965467, 0.26682728]]],\n",
       "\n",
       "\n",
       "       [[[0.62113383, 0.52914209, 0.13457995, 0.51357812, 0.18443987]],\n",
       "\n",
       "        [[0.78533515, 0.85397529, 0.49423684, 0.84656149, 0.07964548]]],\n",
       "\n",
       "\n",
       "       [[[0.50524609, 0.0652865 , 0.42812233, 0.09653092, 0.12715997]],\n",
       "\n",
       "        [[0.59674531, 0.226012  , 0.10694568, 0.22030621, 0.34982629]]],\n",
       "\n",
       "\n",
       "       [[[0.46778748, 0.20174323, 0.64040673, 0.48306984, 0.50523672]],\n",
       "\n",
       "        [[0.38689265, 0.79363745, 0.58000418, 0.1622986 , 0.70075235]]]])"
      ]
     },
     "execution_count": 26,
     "metadata": {},
     "output_type": "execute_result"
    }
   ],
   "source": [
    "# random.seed keeps random numbers same so that some one else on team gets the same results as us\n",
    "np.random.seed(2)\n",
    "rand  = np.random.rand(4,2,1,5)\n",
    "rand"
   ]
  },
  {
   "cell_type": "code",
   "execution_count": 24,
   "id": "8a909c81",
   "metadata": {},
   "outputs": [
    {
     "data": {
      "text/plain": [
       "array([[[26, 19],\n",
       "        [32, 32]],\n",
       "\n",
       "       [[26,  8],\n",
       "        [12, 10]],\n",
       "\n",
       "       [[34,  9],\n",
       "        [37,  6]],\n",
       "\n",
       "       [[22,  6],\n",
       "        [19, 18]]])"
      ]
     },
     "execution_count": 24,
     "metadata": {},
     "output_type": "execute_result"
    }
   ],
   "source": [
    "random_int = np.random.randint(0,40 , size=(4,2,2))\n",
    "random_int"
   ]
  },
  {
   "cell_type": "code",
   "execution_count": 27,
   "id": "39141fe4",
   "metadata": {},
   "outputs": [
    {
     "data": {
      "text/plain": [
       "array([ 6,  8,  9, 10, 12, 18, 19, 22, 26, 32, 34, 37])"
      ]
     },
     "execution_count": 27,
     "metadata": {},
     "output_type": "execute_result"
    }
   ],
   "source": [
    "np.unique(random_int)"
   ]
  },
  {
   "cell_type": "markdown",
   "id": "d6a4a717",
   "metadata": {},
   "source": [
    "# Viewing arrays"
   ]
  },
  {
   "cell_type": "code",
   "execution_count": 5,
   "id": "f327e4fc",
   "metadata": {},
   "outputs": [],
   "source": [
    "a3 = np.array([ \n",
    "    [\n",
    "    [1,2,3] ,\n",
    "    [4,5,6],\n",
    "        [2,4,8]\n",
    "    ] \n",
    "    ,    \n",
    "    [\n",
    "    [7,8,9],\n",
    "    [0,4,7],\n",
    "        [1,3,5]\n",
    "    ],    \n",
    "])"
   ]
  },
  {
   "cell_type": "code",
   "execution_count": 16,
   "id": "0bd70b7a",
   "metadata": {},
   "outputs": [
    {
     "data": {
      "text/plain": [
       "(2, 3, 3)"
      ]
     },
     "execution_count": 16,
     "metadata": {},
     "output_type": "execute_result"
    }
   ],
   "source": [
    "a3.shape"
   ]
  },
  {
   "cell_type": "code",
   "execution_count": 34,
   "id": "5838a02f",
   "metadata": {},
   "outputs": [
    {
     "data": {
      "text/plain": [
       "array([[1, 2, 3],\n",
       "       [4, 5, 6]])"
      ]
     },
     "execution_count": 34,
     "metadata": {},
     "output_type": "execute_result"
    }
   ],
   "source": [
    "a3[0]"
   ]
  },
  {
   "cell_type": "code",
   "execution_count": 37,
   "id": "dab986f4",
   "metadata": {},
   "outputs": [
    {
     "data": {
      "text/plain": [
       "array([[[1, 2]],\n",
       "\n",
       "       [[7, 8]]])"
      ]
     },
     "execution_count": 37,
     "metadata": {},
     "output_type": "execute_result"
    }
   ],
   "source": [
    "a3[:,:1,:2]"
   ]
  },
  {
   "cell_type": "code",
   "execution_count": 38,
   "id": "7a385d03",
   "metadata": {},
   "outputs": [
    {
     "data": {
      "text/plain": [
       "1"
      ]
     },
     "execution_count": 38,
     "metadata": {},
     "output_type": "execute_result"
    }
   ],
   "source": [
    "a1[0]"
   ]
  },
  {
   "cell_type": "code",
   "execution_count": 39,
   "id": "77f65ae0",
   "metadata": {},
   "outputs": [
    {
     "data": {
      "text/plain": [
       "array([1, 2, 3])"
      ]
     },
     "execution_count": 39,
     "metadata": {},
     "output_type": "execute_result"
    }
   ],
   "source": [
    "a2[0]"
   ]
  },
  {
   "cell_type": "code",
   "execution_count": 40,
   "id": "7fc8663b",
   "metadata": {},
   "outputs": [
    {
     "data": {
      "text/plain": [
       "2"
      ]
     },
     "execution_count": 40,
     "metadata": {},
     "output_type": "execute_result"
    }
   ],
   "source": [
    "a2[0][1]"
   ]
  },
  {
   "cell_type": "markdown",
   "id": "13d185a5",
   "metadata": {},
   "source": [
    "# Modifying the arrays\n"
   ]
  },
  {
   "cell_type": "code",
   "execution_count": 9,
   "id": "bce7994b",
   "metadata": {},
   "outputs": [
    {
     "data": {
      "text/plain": [
       "array([1, 2, 3])"
      ]
     },
     "execution_count": 9,
     "metadata": {},
     "output_type": "execute_result"
    }
   ],
   "source": [
    "a1\n"
   ]
  },
  {
   "cell_type": "code",
   "execution_count": 12,
   "id": "c8eeb1e6",
   "metadata": {},
   "outputs": [
    {
     "data": {
      "text/plain": [
       "array([[1, 2, 3],\n",
       "       [4, 5, 6]])"
      ]
     },
     "execution_count": 12,
     "metadata": {},
     "output_type": "execute_result"
    }
   ],
   "source": [
    "a2"
   ]
  },
  {
   "cell_type": "code",
   "execution_count": 13,
   "id": "19a215c0",
   "metadata": {},
   "outputs": [
    {
     "data": {
      "text/plain": [
       "array([[[1, 2, 3],\n",
       "        [4, 5, 6]],\n",
       "\n",
       "       [[7, 8, 9],\n",
       "        [0, 4, 7]]])"
      ]
     },
     "execution_count": 13,
     "metadata": {},
     "output_type": "execute_result"
    }
   ],
   "source": [
    "a3"
   ]
  },
  {
   "cell_type": "code",
   "execution_count": 10,
   "id": "0373b59d",
   "metadata": {},
   "outputs": [
    {
     "data": {
      "text/plain": [
       "array([[2, 4, 6],\n",
       "       [5, 7, 9]])"
      ]
     },
     "execution_count": 10,
     "metadata": {},
     "output_type": "execute_result"
    }
   ],
   "source": [
    "a1 + a2"
   ]
  },
  {
   "cell_type": "code",
   "execution_count": 11,
   "id": "8a25e2de",
   "metadata": {},
   "outputs": [
    {
     "data": {
      "text/plain": [
       "array([[ 1,  4,  9],\n",
       "       [ 4, 10, 18]])"
      ]
     },
     "execution_count": 11,
     "metadata": {},
     "output_type": "execute_result"
    }
   ],
   "source": [
    "a1 * a2"
   ]
  },
  {
   "cell_type": "code",
   "execution_count": 19,
   "id": "6d1478a5",
   "metadata": {},
   "outputs": [
    {
     "data": {
      "text/plain": [
       "(2, 3)"
      ]
     },
     "execution_count": 19,
     "metadata": {},
     "output_type": "execute_result"
    }
   ],
   "source": [
    "np.shape(a2)"
   ]
  },
  {
   "cell_type": "code",
   "execution_count": 27,
   "id": "06f0a494",
   "metadata": {},
   "outputs": [
    {
     "data": {
      "text/plain": [
       "2"
      ]
     },
     "execution_count": 27,
     "metadata": {},
     "output_type": "execute_result"
    }
   ],
   "source": [
    "a2.ndim"
   ]
  },
  {
   "cell_type": "code",
   "execution_count": 36,
   "id": "e2844f8c",
   "metadata": {},
   "outputs": [
    {
     "data": {
      "text/plain": [
       "array([[[1, 2, 3],\n",
       "        [4, 5, 6],\n",
       "        [2, 4, 8]],\n",
       "\n",
       "       [[7, 8, 9],\n",
       "        [0, 4, 7],\n",
       "        [1, 3, 5]]])"
      ]
     },
     "execution_count": 36,
     "metadata": {},
     "output_type": "execute_result"
    }
   ],
   "source": [
    "a3"
   ]
  },
  {
   "cell_type": "code",
   "execution_count": 34,
   "id": "aae01f2e",
   "metadata": {},
   "outputs": [
    {
     "data": {
      "text/plain": [
       "array([[[[[1],\n",
       "          [2],\n",
       "          [3]],\n",
       "\n",
       "         [[4],\n",
       "          [5],\n",
       "          [6]]]]])"
      ]
     },
     "execution_count": 34,
     "metadata": {},
     "output_type": "execute_result"
    }
   ],
   "source": [
    "a2 = a2[np.newaxis]\n",
    "a2"
   ]
  },
  {
   "cell_type": "code",
   "execution_count": 35,
   "id": "9cb637ad",
   "metadata": {},
   "outputs": [
    {
     "data": {
      "text/plain": [
       "array([[[[[ 1,  2,  3],\n",
       "          [ 8, 10, 12],\n",
       "          [ 6, 12, 24]],\n",
       "\n",
       "         [[28, 32, 36],\n",
       "          [ 0, 20, 35],\n",
       "          [ 6, 18, 30]]]]])"
      ]
     },
     "execution_count": 35,
     "metadata": {},
     "output_type": "execute_result"
    }
   ],
   "source": [
    "a2 * a3"
   ]
  },
  {
   "cell_type": "code",
   "execution_count": 37,
   "id": "fca33e96",
   "metadata": {},
   "outputs": [
    {
     "data": {
      "text/plain": [
       "array([[[[[2, 3, 4],\n",
       "          [3, 4, 5],\n",
       "          [4, 5, 6]],\n",
       "\n",
       "         [[5, 6, 7],\n",
       "          [6, 7, 8],\n",
       "          [7, 8, 9]]]]])"
      ]
     },
     "execution_count": 37,
     "metadata": {},
     "output_type": "execute_result"
    }
   ],
   "source": [
    "np.add(a1,a2)"
   ]
  },
  {
   "cell_type": "code",
   "execution_count": 38,
   "id": "c5239446",
   "metadata": {},
   "outputs": [
    {
     "data": {
      "text/plain": [
       "array([[[[[ 0,  1,  2],\n",
       "          [-1,  0,  1],\n",
       "          [-2, -1,  0]],\n",
       "\n",
       "         [[-3, -2, -1],\n",
       "          [-4, -3, -2],\n",
       "          [-5, -4, -3]]]]])"
      ]
     },
     "execution_count": 38,
     "metadata": {},
     "output_type": "execute_result"
    }
   ],
   "source": [
    "np.subtract(a1,a2)"
   ]
  },
  {
   "cell_type": "code",
   "execution_count": 39,
   "id": "754aee3a",
   "metadata": {},
   "outputs": [
    {
     "data": {
      "text/plain": [
       "array([[[[[ 1,  2,  3],\n",
       "          [ 8, 10, 12],\n",
       "          [ 6, 12, 24]],\n",
       "\n",
       "         [[28, 32, 36],\n",
       "          [ 0, 20, 35],\n",
       "          [ 6, 18, 30]]]]])"
      ]
     },
     "execution_count": 39,
     "metadata": {},
     "output_type": "execute_result"
    }
   ],
   "source": [
    "np.multiply(a2,a3)"
   ]
  },
  {
   "cell_type": "code",
   "execution_count": 40,
   "id": "f7d81976",
   "metadata": {},
   "outputs": [
    {
     "data": {
      "text/plain": [
       "array([[[[[1.        , 2.        , 3.        ],\n",
       "          [0.5       , 1.        , 1.5       ],\n",
       "          [0.33333333, 0.66666667, 1.        ]],\n",
       "\n",
       "         [[0.25      , 0.5       , 0.75      ],\n",
       "          [0.2       , 0.4       , 0.6       ],\n",
       "          [0.16666667, 0.33333333, 0.5       ]]]]])"
      ]
     },
     "execution_count": 40,
     "metadata": {},
     "output_type": "execute_result"
    }
   ],
   "source": [
    "np.divide(a1,a2)"
   ]
  },
  {
   "cell_type": "code",
   "execution_count": 41,
   "id": "58eb0ad5",
   "metadata": {},
   "outputs": [
    {
     "data": {
      "text/plain": [
       "array([[[[[1, 2, 3],\n",
       "          [0, 1, 1],\n",
       "          [0, 0, 1]],\n",
       "\n",
       "         [[0, 0, 0],\n",
       "          [0, 0, 0],\n",
       "          [0, 0, 0]]]]])"
      ]
     },
     "execution_count": 41,
     "metadata": {},
     "output_type": "execute_result"
    }
   ],
   "source": [
    "a1 // a2"
   ]
  },
  {
   "cell_type": "code",
   "execution_count": 42,
   "id": "cb10fc1f",
   "metadata": {},
   "outputs": [
    {
     "data": {
      "text/plain": [
       "3.5"
      ]
     },
     "execution_count": 42,
     "metadata": {},
     "output_type": "execute_result"
    }
   ],
   "source": [
    "np.mean(a2)"
   ]
  },
  {
   "cell_type": "code",
   "execution_count": 44,
   "id": "a650204d",
   "metadata": {},
   "outputs": [
    {
     "data": {
      "text/plain": [
       "1.707825127659933"
      ]
     },
     "execution_count": 44,
     "metadata": {},
     "output_type": "execute_result"
    }
   ],
   "source": [
    "# standard deviation = measure of how spread out a group of numbers are from mean\n",
    "np.std(a2)"
   ]
  },
  {
   "cell_type": "code",
   "execution_count": 45,
   "id": "dcab0fec",
   "metadata": {},
   "outputs": [
    {
     "data": {
      "text/plain": [
       "2.9166666666666665"
      ]
     },
     "execution_count": 45,
     "metadata": {},
     "output_type": "execute_result"
    }
   ],
   "source": [
    "# Variance = measure of avg degree to which a each number if diffrrent from the mean\n",
    "# High Var = wider range of nums\n",
    "np.var(a2)"
   ]
  },
  {
   "cell_type": "code",
   "execution_count": 46,
   "id": "692391d1",
   "metadata": {},
   "outputs": [
    {
     "data": {
      "text/plain": [
       "1.707825127659933"
      ]
     },
     "execution_count": 46,
     "metadata": {},
     "output_type": "execute_result"
    }
   ],
   "source": [
    "# std is sqrt of var\n",
    "np.sqrt(np.var(a2))"
   ]
  },
  {
   "cell_type": "code",
   "execution_count": 47,
   "id": "b67f502a",
   "metadata": {},
   "outputs": [
    {
     "data": {
      "text/plain": [
       "array([[[[[ 1],\n",
       "          [ 4],\n",
       "          [ 9]],\n",
       "\n",
       "         [[16],\n",
       "          [25],\n",
       "          [36]]]]])"
      ]
     },
     "execution_count": 47,
     "metadata": {},
     "output_type": "execute_result"
    }
   ],
   "source": [
    "np.square(a2)"
   ]
  },
  {
   "cell_type": "markdown",
   "id": "f082bcc8",
   "metadata": {},
   "source": [
    "`%timeit` Magic Function to measure the time taken to execute a line"
   ]
  },
  {
   "cell_type": "code",
   "execution_count": 6,
   "id": "4f1825e6",
   "metadata": {},
   "outputs": [
    {
     "data": {
      "text/plain": [
       "array([ 2.71828183,  7.3890561 , 20.08553692])"
      ]
     },
     "execution_count": 6,
     "metadata": {},
     "output_type": "execute_result"
    }
   ],
   "source": [
    "np.exp(a1)"
   ]
  },
  {
   "cell_type": "code",
   "execution_count": 7,
   "id": "84d021fc",
   "metadata": {},
   "outputs": [
    {
     "data": {
      "text/plain": [
       "array([1, 2, 3])"
      ]
     },
     "execution_count": 7,
     "metadata": {},
     "output_type": "execute_result"
    }
   ],
   "source": [
    "a1"
   ]
  },
  {
   "cell_type": "code",
   "execution_count": 8,
   "id": "35d10f6a",
   "metadata": {},
   "outputs": [
    {
     "data": {
      "text/plain": [
       "array([0.        , 0.69314718, 1.09861229])"
      ]
     },
     "execution_count": 8,
     "metadata": {},
     "output_type": "execute_result"
    }
   ],
   "source": [
    "np.log(a1)"
   ]
  },
  {
   "cell_type": "markdown",
   "id": "5e2041d4",
   "metadata": {},
   "source": [
    "# std and var"
   ]
  },
  {
   "cell_type": "code",
   "execution_count": 9,
   "id": "c9b71097",
   "metadata": {},
   "outputs": [
    {
     "data": {
      "text/plain": [
       "(2416.8333333333335, 4.5)"
      ]
     },
     "execution_count": 9,
     "metadata": {},
     "output_type": "execute_result"
    }
   ],
   "source": [
    "high_var = np.array([1,100,400,1000,3000,10000])\n",
    "low_var = np.array([1,2,3,4,5,6,7,8])\n",
    "high_var.mean() , low_var.mean()"
   ]
  },
  {
   "cell_type": "code",
   "execution_count": 12,
   "id": "e498ca92",
   "metadata": {},
   "outputs": [
    {
     "data": {
      "text/plain": [
       "(3538.4436511300023, 2.29128784747792)"
      ]
     },
     "execution_count": 12,
     "metadata": {},
     "output_type": "execute_result"
    }
   ],
   "source": [
    "# Low std means number are more more clustered together\n",
    "high_var.std() , low_var.std()"
   ]
  },
  {
   "cell_type": "code",
   "execution_count": 13,
   "id": "2cdc9a7f",
   "metadata": {},
   "outputs": [
    {
     "data": {
      "text/plain": [
       "(12520583.472222222, 5.25)"
      ]
     },
     "execution_count": 13,
     "metadata": {},
     "output_type": "execute_result"
    }
   ],
   "source": [
    "# Low variance means number are very close to each other\n",
    "high_var.var(), low_var.var()"
   ]
  },
  {
   "cell_type": "code",
   "execution_count": 17,
   "id": "8bff36c3",
   "metadata": {},
   "outputs": [],
   "source": [
    "\n",
    "import matplotlib.pyplot as plt"
   ]
  },
  {
   "cell_type": "code",
   "execution_count": 18,
   "id": "0bb0db98",
   "metadata": {},
   "outputs": [
    {
     "data": {
      "text/plain": [
       "(array([4., 0., 1., 0., 0., 0., 0., 0., 0., 1.]),\n",
       " array([1.0000e+00, 1.0009e+03, 2.0008e+03, 3.0007e+03, 4.0006e+03,\n",
       "        5.0005e+03, 6.0004e+03, 7.0003e+03, 8.0002e+03, 9.0001e+03,\n",
       "        1.0000e+04]),\n",
       " <BarContainer object of 10 artists>)"
      ]
     },
     "execution_count": 18,
     "metadata": {},
     "output_type": "execute_result"
    },
    {
     "data": {
      "image/png": "[encoded data removed]",
      "text/plain": [
       "<Figure size 640x480 with 1 Axes>"
      ]
     },
     "metadata": {},
     "output_type": "display_data"
    }
   ],
   "source": [
    "plt.hist(high_var)"
   ]
  },
  {
   "cell_type": "code",
   "execution_count": 19,
   "id": "152c854b",
   "metadata": {},
   "outputs": [
    {
     "data": {
      "text/plain": [
       "(array([1., 1., 1., 0., 1., 1., 0., 1., 1., 1.]),\n",
       " array([1. , 1.7, 2.4, 3.1, 3.8, 4.5, 5.2, 5.9, 6.6, 7.3, 8. ]),\n",
       " <BarContainer object of 10 artists>)"
      ]
     },
     "execution_count": 19,
     "metadata": {},
     "output_type": "execute_result"
    },
    {
     "data": {
      "image/png": "[encoded data removed]",
      "text/plain": [
       "<Figure size 640x480 with 1 Axes>"
      ]
     },
     "metadata": {},
     "output_type": "display_data"
    }
   ],
   "source": [
    "plt.hist(low_var)"
   ]
  },
  {
   "cell_type": "markdown",
   "id": "85f344ed",
   "metadata": {},
   "source": [
    "# Transpose and reshape"
   ]
  },
  {
   "cell_type": "code",
   "execution_count": 20,
   "id": "df7547fd",
   "metadata": {},
   "outputs": [
    {
     "data": {
      "text/plain": [
       "array([1, 2, 3])"
      ]
     },
     "execution_count": 20,
     "metadata": {},
     "output_type": "execute_result"
    }
   ],
   "source": [
    "a1"
   ]
  },
  {
   "cell_type": "code",
   "execution_count": 21,
   "id": "08cd26c5",
   "metadata": {},
   "outputs": [
    {
     "data": {
      "text/plain": [
       "array([[1, 2, 3],\n",
       "       [4, 5, 6]])"
      ]
     },
     "execution_count": 21,
     "metadata": {},
     "output_type": "execute_result"
    }
   ],
   "source": [
    "a2"
   ]
  },
  {
   "cell_type": "code",
   "execution_count": 22,
   "id": "f3781dbe",
   "metadata": {},
   "outputs": [
    {
     "data": {
      "text/plain": [
       "array([[[1, 2, 3],\n",
       "        [4, 5, 6],\n",
       "        [2, 4, 8]],\n",
       "\n",
       "       [[7, 8, 9],\n",
       "        [0, 4, 7],\n",
       "        [1, 3, 5]]])"
      ]
     },
     "execution_count": 22,
     "metadata": {},
     "output_type": "execute_result"
    }
   ],
   "source": [
    "a3"
   ]
  },
  {
   "cell_type": "code",
   "execution_count": 25,
   "id": "20a15c54",
   "metadata": {},
   "outputs": [
    {
     "data": {
      "text/plain": [
       "(array([[[1],\n",
       "         [2],\n",
       "         [3]],\n",
       " \n",
       "        [[4],\n",
       "         [5],\n",
       "         [6]]]),\n",
       " array([[[1, 2, 3],\n",
       "         [4, 5, 6]]]))"
      ]
     },
     "execution_count": 25,
     "metadata": {},
     "output_type": "execute_result"
    }
   ],
   "source": [
    "reshaped_a2= a2.reshape(2,3,1)\n",
    "newaxis_a2= a2[np.newaxis]\n",
    "reshaped_a2 , newaxis_a2"
   ]
  },
  {
   "cell_type": "code",
   "execution_count": 26,
   "id": "68247d95",
   "metadata": {},
   "outputs": [
    {
     "data": {
      "text/plain": [
       "array([[1, 4],\n",
       "       [2, 5],\n",
       "       [3, 6]])"
      ]
     },
     "execution_count": 26,
     "metadata": {},
     "output_type": "execute_result"
    }
   ],
   "source": [
    "a2.T"
   ]
  },
  {
   "cell_type": "code",
   "execution_count": 27,
   "id": "86ef93b8",
   "metadata": {},
   "outputs": [
    {
     "data": {
      "text/plain": [
       "array([[[1, 7],\n",
       "        [4, 0],\n",
       "        [2, 1]],\n",
       "\n",
       "       [[2, 8],\n",
       "        [5, 4],\n",
       "        [4, 3]],\n",
       "\n",
       "       [[3, 9],\n",
       "        [6, 7],\n",
       "        [8, 5]]])"
      ]
     },
     "execution_count": 27,
     "metadata": {},
     "output_type": "execute_result"
    }
   ],
   "source": [
    "a3.T"
   ]
  },
  {
   "cell_type": "markdown",
   "id": "d17a1bef",
   "metadata": {},
   "source": [
    "# Dot Products"
   ]
  },
  {
   "cell_type": "code",
   "execution_count": 4,
   "id": "ef07ba4d",
   "metadata": {},
   "outputs": [],
   "source": [
    "array_1 = np.random.randint(10 , size=(6,4))\n",
    "array_2 = np.random.randint(10 , size=(6,4))"
   ]
  },
  {
   "cell_type": "code",
   "execution_count": 31,
   "id": "1c371f58",
   "metadata": {},
   "outputs": [
    {
     "data": {
      "text/plain": [
       "(array([[9, 3, 2, 6],\n",
       "        [7, 8, 8, 2],\n",
       "        [0, 3, 9, 7],\n",
       "        [2, 5, 0, 7],\n",
       "        [7, 9, 0, 6],\n",
       "        [5, 4, 4, 4]]),\n",
       " array([[5, 8, 9, 9],\n",
       "        [8, 8, 5, 0],\n",
       "        [9, 5, 1, 4],\n",
       "        [3, 9, 3, 8],\n",
       "        [7, 2, 5, 3],\n",
       "        [7, 7, 9, 1]]))"
      ]
     },
     "execution_count": 31,
     "metadata": {},
     "output_type": "execute_result"
    }
   ],
   "source": [
    "array_1 , array_2"
   ]
  },
  {
   "cell_type": "code",
   "execution_count": 34,
   "id": "c0eace6f",
   "metadata": {},
   "outputs": [
    {
     "data": {
      "text/plain": [
       "array([[141, 106, 122, 108,  97, 108],\n",
       "       [189, 160, 119, 133, 111, 179],\n",
       "       [168,  69,  52, 110,  72, 109],\n",
       "       [113,  56,  71, 107,  45,  56],\n",
       "       [161, 128, 132, 150,  85, 118],\n",
       "       [129,  92,  85,  95,  75, 103]])"
      ]
     },
     "execution_count": 34,
     "metadata": {},
     "output_type": "execute_result"
    }
   ],
   "source": [
    "# For fot profuct number os rows of first array must be equal to number of columns of second array\n",
    "np.dot(array_1 , array_2.T)"
   ]
  },
  {
   "cell_type": "code",
   "execution_count": 6,
   "id": "77abf2ca",
   "metadata": {},
   "outputs": [
    {
     "data": {
      "text/plain": [
       "array([[ True,  True,  True,  True],\n",
       "       [ True,  True,  True,  True],\n",
       "       [ True,  True,  True,  True],\n",
       "       [ True,  True,  True,  True],\n",
       "       [ True,  True,  True,  True],\n",
       "       [ True,  True,  True,  True]])"
      ]
     },
     "execution_count": 6,
     "metadata": {},
     "output_type": "execute_result"
    }
   ],
   "source": [
    "array_1 == array_1"
   ]
  },
  {
   "cell_type": "code",
   "execution_count": 7,
   "id": "d6f90893",
   "metadata": {},
   "outputs": [
    {
     "data": {
      "text/plain": [
       "array([[ True, False,  True, False],\n",
       "       [ True, False,  True, False],\n",
       "       [ True,  True,  True,  True],\n",
       "       [False,  True, False,  True],\n",
       "       [False,  True,  True, False],\n",
       "       [False,  True,  True, False]])"
      ]
     },
     "execution_count": 7,
     "metadata": {},
     "output_type": "execute_result"
    }
   ],
   "source": [
    "array_1 > array_2"
   ]
  },
  {
   "cell_type": "code",
   "execution_count": 8,
   "id": "6dcf96fa",
   "metadata": {},
   "outputs": [
    {
     "data": {
      "text/plain": [
       "array([[False,  True, False,  True],\n",
       "       [False,  True, False,  True],\n",
       "       [False, False, False, False],\n",
       "       [ True, False,  True, False],\n",
       "       [ True, False, False,  True],\n",
       "       [ True, False, False,  True]])"
      ]
     },
     "execution_count": 8,
     "metadata": {},
     "output_type": "execute_result"
    }
   ],
   "source": [
    "array_1 <= array_2"
   ]
  },
  {
   "cell_type": "markdown",
   "id": "cfe6fa8b",
   "metadata": {},
   "source": [
    "# sorting Arrays Arrays"
   ]
  },
  {
   "cell_type": "code",
   "execution_count": 9,
   "id": "7fcf9106",
   "metadata": {},
   "outputs": [
    {
     "data": {
      "text/plain": [
       "array([[6, 7, 8, 8],\n",
       "       [2, 3, 4, 7],\n",
       "       [1, 6, 7, 9],\n",
       "       [5, 6, 6, 8],\n",
       "       [2, 5, 7, 8],\n",
       "       [2, 5, 8, 9]])"
      ]
     },
     "execution_count": 9,
     "metadata": {},
     "output_type": "execute_result"
    }
   ],
   "source": [
    "np.sort(array_1)"
   ]
  },
  {
   "cell_type": "code",
   "execution_count": 10,
   "id": "daaac166",
   "metadata": {},
   "outputs": [
    {
     "data": {
      "text/plain": [
       "array([[1, 2, 0, 3],\n",
       "       [2, 3, 1, 0],\n",
       "       [2, 3, 0, 1],\n",
       "       [0, 1, 2, 3],\n",
       "       [3, 2, 0, 1],\n",
       "       [0, 3, 2, 1]], dtype=int64)"
      ]
     },
     "execution_count": 10,
     "metadata": {},
     "output_type": "execute_result"
    }
   ],
   "source": [
    "# Provides the index of highest num in the array\n",
    "np.argsort(array_1)"
   ]
  },
  {
   "cell_type": "code",
   "execution_count": 11,
   "id": "b7bf39ec",
   "metadata": {},
   "outputs": [
    {
     "data": {
      "text/plain": [
       "9"
      ]
     },
     "execution_count": 11,
     "metadata": {},
     "output_type": "execute_result"
    }
   ],
   "source": [
    "np.argmax(array_1)"
   ]
  },
  {
   "cell_type": "code",
   "execution_count": 12,
   "id": "f56da31d",
   "metadata": {},
   "outputs": [
    {
     "data": {
      "text/plain": [
       "10"
      ]
     },
     "execution_count": 12,
     "metadata": {},
     "output_type": "execute_result"
    }
   ],
   "source": [
    "np.argmin(array_1)"
   ]
  },
  {
   "cell_type": "markdown",
   "id": "69223aec",
   "metadata": {},
   "source": [
    "<img src=\"imgs/panda.png\" />"
   ]
  },
  {
   "cell_type": "code",
   "execution_count": 14,
   "id": "01ca21f9",
   "metadata": {},
   "outputs": [],
   "source": [
    "from matplotlib.image import imread"
   ]
  },
  {
   "cell_type": "code",
   "execution_count": 15,
   "id": "fdc2bdba",
   "metadata": {},
   "outputs": [],
   "source": [
    "panda = imread(\"imgs/panda.png\")"
   ]
  },
  {
   "cell_type": "code",
   "execution_count": 20,
   "id": "c3c439c3",
   "metadata": {},
   "outputs": [
    {
     "data": {
      "text/plain": [
       "(24465000, (2330, 3500, 3))"
      ]
     },
     "execution_count": 20,
     "metadata": {},
     "output_type": "execute_result"
    }
   ],
   "source": [
    "panda.size , panda.shape"
   ]
  },
  {
   "cell_type": "code",
   "execution_count": 21,
   "id": "08eaad04",
   "metadata": {},
   "outputs": [
    {
     "data": {
      "text/plain": [
       "(991300, (431, 575, 4))"
      ]
     },
     "execution_count": 21,
     "metadata": {},
     "output_type": "execute_result"
    }
   ],
   "source": [
    "car = imread(\"imgs/car-photo.png\")\n",
    "car.size , car.shape"
   ]
  },
  {
   "cell_type": "code",
   "execution_count": 22,
   "id": "4a1e476a",
   "metadata": {},
   "outputs": [
    {
     "data": {
      "text/plain": [
       "(993600, (432, 575, 4))"
      ]
     },
     "execution_count": 22,
     "metadata": {},
     "output_type": "execute_result"
    }
   ],
   "source": [
    "dog = imread(\"imgs/dog-photo.png\")\n",
    "dog.size ,dog.shape"
   ]
  },
  {
   "cell_type": "code",
   "execution_count": 23,
   "id": "b5af4b88",
   "metadata": {},
   "outputs": [
    {
     "data": {
      "text/plain": [
       "array([[0.69411767, 0.8039216 , 0.8862745 , 1.        ],\n",
       "       [0.7019608 , 0.8039216 , 0.88235295, 1.        ],\n",
       "       [0.7058824 , 0.80784315, 0.88235295, 1.        ],\n",
       "       ...,\n",
       "       [0.5019608 , 0.6862745 , 0.84705883, 1.        ],\n",
       "       [0.49411765, 0.68235296, 0.84313726, 1.        ],\n",
       "       [0.49411765, 0.68235296, 0.8392157 , 1.        ]], dtype=float32)"
      ]
     },
     "execution_count": 23,
     "metadata": {},
     "output_type": "execute_result"
    }
   ],
   "source": []
  },
  {
   "cell_type": "code",
   "execution_count": null,
   "id": "d6c28e0a",
   "metadata": {},
   "outputs": [],
   "source": []
  }
 ],
 "metadata": {
  "kernelspec": {
   "display_name": "Python 3 (ipykernel)",
   "language": "python",
   "name": "python3"
  },
  "language_info": {
   "codemirror_mode": {
    "name": "ipython",
    "version": 3
   },
   "file_extension": ".py",
   "mimetype": "text/x-python",
   "name": "python",
   "nbconvert_exporter": "python",
   "pygments_lexer": "ipython3",
   "version": "3.11.3"
  }
 },
 "nbformat": 4,
 "nbformat_minor": 5
}
