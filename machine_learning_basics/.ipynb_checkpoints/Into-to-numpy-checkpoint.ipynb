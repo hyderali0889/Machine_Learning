{
 "cells": [
  {
   "cell_type": "code",
   "execution_count": 32,
   "id": "9ed9bfcb",
   "metadata": {},
   "outputs": [],
   "source": [
    "import numpy as np"
   ]
  },
  {
   "cell_type": "code",
   "execution_count": 33,
   "id": "c783bcea",
   "metadata": {},
   "outputs": [
    {
     "data": {
      "text/plain": [
       "array([1, 2, 3])"
      ]
     },
     "execution_count": 33,
     "metadata": {},
     "output_type": "execute_result"
    }
   ],
   "source": [
    "a1 = np.array([1,2,3])\n",
    "a1"
   ]
  },
  {
   "cell_type": "code",
   "execution_count": 34,
   "id": "94e147db",
   "metadata": {},
   "outputs": [
    {
     "data": {
      "text/plain": [
       "numpy.ndarray"
      ]
     },
     "execution_count": 34,
     "metadata": {},
     "output_type": "execute_result"
    }
   ],
   "source": [
    "type(a1)"
   ]
  },
  {
   "cell_type": "code",
   "execution_count": 35,
   "id": "41668e9f",
   "metadata": {},
   "outputs": [
    {
     "data": {
      "text/plain": [
       "array([[1, 2, 3],\n",
       "       [4, 5, 6]])"
      ]
     },
     "execution_count": 35,
     "metadata": {},
     "output_type": "execute_result"
    }
   ],
   "source": [
    "a2 = np.array([\n",
    "    [ 1,2,3 ] ,\n",
    "    [4,5,6]\n",
    "])\n",
    "a2"
   ]
  },
  {
   "cell_type": "markdown",
   "id": "e2f29431",
   "metadata": {},
   "source": [
    "# Creating Arrays"
   ]
  },
  {
   "cell_type": "code",
   "execution_count": 36,
   "id": "132af0bd",
   "metadata": {},
   "outputs": [],
   "source": [
    "ones = np.ones((5,3))"
   ]
  },
  {
   "cell_type": "code",
   "execution_count": null,
   "id": "08437560",
   "metadata": {},
   "outputs": [],
   "source": [
    "ones"
   ]
  },
  {
   "cell_type": "code",
   "execution_count": null,
   "id": "1afb3d04",
   "metadata": {},
   "outputs": [],
   "source": [
    "zeros = np.zeros((2,4))\n",
    "zeros"
   ]
  },
  {
   "cell_type": "code",
   "execution_count": null,
   "id": "532b4343",
   "metadata": {},
   "outputs": [],
   "source": [
    "range = np.arange(0,20,1)\n",
    "range"
   ]
  },
  {
   "cell_type": "code",
   "execution_count": null,
   "id": "f18e4899",
   "metadata": {},
   "outputs": [],
   "source": [
    "random = np.random.random(size=(4,3))\n",
    "random"
   ]
  },
  {
   "cell_type": "code",
   "execution_count": null,
   "id": "18aaddce",
   "metadata": {},
   "outputs": [],
   "source": [
    "random.size"
   ]
  },
  {
   "cell_type": "code",
   "execution_count": null,
   "id": "9f7aa262",
   "metadata": {},
   "outputs": [],
   "source": [
    "# random.seed keeps random numbers same so that some one else on team gets the same results as us\n",
    "np.random.seed(2)\n",
    "rand  = np.random.rand(4,2,1,5)\n",
    "rand"
   ]
  },
  {
   "cell_type": "code",
   "execution_count": null,
   "id": "8a909c81",
   "metadata": {},
   "outputs": [],
   "source": [
    "random_int = np.random.randint(0,40 , size=(4,2,2))\n",
    "random_int"
   ]
  },
  {
   "cell_type": "code",
   "execution_count": null,
   "id": "39141fe4",
   "metadata": {},
   "outputs": [],
   "source": [
    "np.unique(random_int)"
   ]
  },
  {
   "cell_type": "markdown",
   "id": "d6a4a717",
   "metadata": {},
   "source": [
    "# Viewing arrays"
   ]
  },
  {
   "cell_type": "code",
   "execution_count": null,
   "id": "f327e4fc",
   "metadata": {},
   "outputs": [],
   "source": [
    "a3 = np.array([ \n",
    "    [\n",
    "    [1,2,3] ,\n",
    "    [4,5,6],\n",
    "        [2,4,8]\n",
    "    ] \n",
    "    ,    \n",
    "    [\n",
    "    [7,8,9],\n",
    "    [0,4,7],\n",
    "        [1,3,5]\n",
    "    ],    \n",
    "])"
   ]
  },
  {
   "cell_type": "code",
   "execution_count": null,
   "id": "0bd70b7a",
   "metadata": {},
   "outputs": [],
   "source": [
    "a3.shape"
   ]
  },
  {
   "cell_type": "code",
   "execution_count": null,
   "id": "5838a02f",
   "metadata": {},
   "outputs": [],
   "source": [
    "a3[0]"
   ]
  },
  {
   "cell_type": "code",
   "execution_count": null,
   "id": "dab986f4",
   "metadata": {},
   "outputs": [],
   "source": [
    "a3[:,:1,:2]"
   ]
  },
  {
   "cell_type": "code",
   "execution_count": null,
   "id": "7a385d03",
   "metadata": {},
   "outputs": [],
   "source": [
    "a1[0]"
   ]
  },
  {
   "cell_type": "code",
   "execution_count": null,
   "id": "77f65ae0",
   "metadata": {},
   "outputs": [],
   "source": [
    "a2[0]"
   ]
  },
  {
   "cell_type": "code",
   "execution_count": null,
   "id": "7fc8663b",
   "metadata": {},
   "outputs": [],
   "source": [
    "a2[0][1]"
   ]
  },
  {
   "cell_type": "markdown",
   "id": "13d185a5",
   "metadata": {},
   "source": [
    "# Modifying the arrays\n"
   ]
  },
  {
   "cell_type": "code",
   "execution_count": null,
   "id": "bce7994b",
   "metadata": {},
   "outputs": [],
   "source": [
    "a1\n"
   ]
  },
  {
   "cell_type": "code",
   "execution_count": null,
   "id": "c8eeb1e6",
   "metadata": {},
   "outputs": [],
   "source": [
    "a2"
   ]
  },
  {
   "cell_type": "code",
   "execution_count": null,
   "id": "19a215c0",
   "metadata": {},
   "outputs": [],
   "source": [
    "a3"
   ]
  },
  {
   "cell_type": "code",
   "execution_count": null,
   "id": "0373b59d",
   "metadata": {},
   "outputs": [],
   "source": [
    "a1 + a2"
   ]
  },
  {
   "cell_type": "code",
   "execution_count": null,
   "id": "8a25e2de",
   "metadata": {},
   "outputs": [],
   "source": [
    "a1 * a2"
   ]
  },
  {
   "cell_type": "code",
   "execution_count": null,
   "id": "6d1478a5",
   "metadata": {},
   "outputs": [],
   "source": [
    "np.shape(a2)"
   ]
  },
  {
   "cell_type": "code",
   "execution_count": null,
   "id": "06f0a494",
   "metadata": {},
   "outputs": [],
   "source": [
    "a2.ndim"
   ]
  },
  {
   "cell_type": "code",
   "execution_count": null,
   "id": "e2844f8c",
   "metadata": {},
   "outputs": [],
   "source": [
    "a3"
   ]
  },
  {
   "cell_type": "code",
   "execution_count": null,
   "id": "aae01f2e",
   "metadata": {},
   "outputs": [],
   "source": [
    "a2 = a2.reshape(2,3,1)\n",
    "a2"
   ]
  },
  {
   "cell_type": "code",
   "execution_count": null,
   "id": "9cb637ad",
   "metadata": {},
   "outputs": [],
   "source": [
    "a2 * a3"
   ]
  },
  {
   "cell_type": "code",
   "execution_count": null,
   "id": "fca33e96",
   "metadata": {},
   "outputs": [],
   "source": [
    "np.add(a1,a2)"
   ]
  },
  {
   "cell_type": "code",
   "execution_count": null,
   "id": "c5239446",
   "metadata": {},
   "outputs": [],
   "source": [
    "np.subtract(a1,a2)"
   ]
  },
  {
   "cell_type": "code",
   "execution_count": null,
   "id": "754aee3a",
   "metadata": {},
   "outputs": [],
   "source": [
    "np.multiply(a2,a3)"
   ]
  },
  {
   "cell_type": "code",
   "execution_count": null,
   "id": "f7d81976",
   "metadata": {},
   "outputs": [],
   "source": [
    "np.divide(a1,a2)"
   ]
  },
  {
   "cell_type": "code",
   "execution_count": null,
   "id": "58eb0ad5",
   "metadata": {},
   "outputs": [],
   "source": [
    "a1 // a2"
   ]
  },
  {
   "cell_type": "code",
   "execution_count": null,
   "id": "cb10fc1f",
   "metadata": {},
   "outputs": [],
   "source": [
    "np.mean(a2)"
   ]
  },
  {
   "cell_type": "code",
   "execution_count": null,
   "id": "a650204d",
   "metadata": {},
   "outputs": [],
   "source": [
    "# standard deviation = measure of how spread out a group of numbers are from mean\n",
    "np.std(a2)"
   ]
  },
  {
   "cell_type": "code",
   "execution_count": null,
   "id": "dcab0fec",
   "metadata": {},
   "outputs": [],
   "source": [
    "# Variance = measure of avg degree to which a each number if diffrrent from the mean\n",
    "# High Var = wider range of nums\n",
    "np.var(a2)"
   ]
  },
  {
   "cell_type": "code",
   "execution_count": null,
   "id": "692391d1",
   "metadata": {},
   "outputs": [],
   "source": [
    "# std is sqrt of var\n",
    "np.sqrt(np.var(a2))"
   ]
  },
  {
   "cell_type": "code",
   "execution_count": null,
   "id": "b67f502a",
   "metadata": {},
   "outputs": [],
   "source": [
    "np.square(a2)"
   ]
  },
  {
   "cell_type": "markdown",
   "id": "f082bcc8",
   "metadata": {},
   "source": [
    "`%timeit` Magic Function to measure the time taken to execute a line"
   ]
  },
  {
   "cell_type": "code",
   "execution_count": null,
   "id": "4f1825e6",
   "metadata": {},
   "outputs": [],
   "source": [
    "np.exp(a1)"
   ]
  },
  {
   "cell_type": "code",
   "execution_count": null,
   "id": "84d021fc",
   "metadata": {},
   "outputs": [],
   "source": [
    "a1"
   ]
  },
  {
   "cell_type": "code",
   "execution_count": null,
   "id": "35d10f6a",
   "metadata": {},
   "outputs": [],
   "source": [
    "np.log(a1)"
   ]
  },
  {
   "cell_type": "markdown",
   "id": "5e2041d4",
   "metadata": {},
   "source": [
    "# std and var"
   ]
  },
  {
   "cell_type": "code",
   "execution_count": null,
   "id": "c9b71097",
   "metadata": {},
   "outputs": [],
   "source": [
    "high_var = np.array([1,100,400,1000,3000,10000])\n",
    "low_var = np.array([1,2,3,4,5,6,7,8])\n",
    "high_var.mean() , low_var.mean()"
   ]
  },
  {
   "cell_type": "code",
   "execution_count": null,
   "id": "e498ca92",
   "metadata": {},
   "outputs": [],
   "source": [
    "# Low std means number are more more clustered together\n",
    "high_var.std() , low_var.std()"
   ]
  },
  {
   "cell_type": "code",
   "execution_count": null,
   "id": "2cdc9a7f",
   "metadata": {},
   "outputs": [],
   "source": [
    "# Low variance means number are very close to each other\n",
    "high_var.var(), low_var.var()"
   ]
  },
  {
   "cell_type": "code",
   "execution_count": null,
   "id": "8bff36c3",
   "metadata": {},
   "outputs": [],
   "source": [
    "\n",
    "import matplotlib.pyplot as plt"
   ]
  },
  {
   "cell_type": "code",
   "execution_count": null,
   "id": "0bb0db98",
   "metadata": {},
   "outputs": [],
   "source": [
    "plt.hist(high_var)"
   ]
  },
  {
   "cell_type": "code",
   "execution_count": null,
   "id": "152c854b",
   "metadata": {},
   "outputs": [],
   "source": [
    "plt.hist(low_var)"
   ]
  },
  {
   "cell_type": "markdown",
   "id": "85f344ed",
   "metadata": {},
   "source": [
    "# Transpose and reshape"
   ]
  },
  {
   "cell_type": "code",
   "execution_count": null,
   "id": "df7547fd",
   "metadata": {},
   "outputs": [],
   "source": [
    "a1"
   ]
  },
  {
   "cell_type": "code",
   "execution_count": null,
   "id": "08cd26c5",
   "metadata": {},
   "outputs": [],
   "source": [
    "a2"
   ]
  },
  {
   "cell_type": "code",
   "execution_count": null,
   "id": "f3781dbe",
   "metadata": {},
   "outputs": [],
   "source": [
    "a3"
   ]
  },
  {
   "cell_type": "code",
   "execution_count": null,
   "id": "20a15c54",
   "metadata": {},
   "outputs": [],
   "source": [
    "reshaped_a2= a2.reshape(2,3,1)\n",
    "newaxis_a2= a2[np.newaxis]\n",
    "reshaped_a2 , newaxis_a2"
   ]
  },
  {
   "cell_type": "code",
   "execution_count": null,
   "id": "68247d95",
   "metadata": {},
   "outputs": [],
   "source": [
    "a2.T"
   ]
  },
  {
   "cell_type": "code",
   "execution_count": null,
   "id": "86ef93b8",
   "metadata": {},
   "outputs": [],
   "source": [
    "a3.T"
   ]
  },
  {
   "cell_type": "markdown",
   "id": "d17a1bef",
   "metadata": {},
   "source": [
    "# Dot Products"
   ]
  },
  {
   "cell_type": "code",
   "execution_count": null,
   "id": "ef07ba4d",
   "metadata": {},
   "outputs": [],
   "source": [
    "array_1 = np.random.randint(10 , size=(6,4))\n",
    "array_2 = np.random.randint(10 , size=(6,4))"
   ]
  },
  {
   "cell_type": "code",
   "execution_count": null,
   "id": "1c371f58",
   "metadata": {},
   "outputs": [],
   "source": [
    "array_1 , array_2"
   ]
  },
  {
   "cell_type": "code",
   "execution_count": null,
   "id": "c0eace6f",
   "metadata": {},
   "outputs": [],
   "source": [
    "# For fot profuct number os rows of first array must be equal to number of columns of second array\n",
    "np.dot(array_1 , array_2.T)"
   ]
  },
  {
   "cell_type": "code",
   "execution_count": null,
   "id": "77abf2ca",
   "metadata": {},
   "outputs": [],
   "source": [
    "array_1 == array_1"
   ]
  },
  {
   "cell_type": "code",
   "execution_count": null,
   "id": "d6f90893",
   "metadata": {},
   "outputs": [],
   "source": [
    "array_1 > array_2"
   ]
  },
  {
   "cell_type": "code",
   "execution_count": null,
   "id": "6dcf96fa",
   "metadata": {},
   "outputs": [],
   "source": [
    "array_1 <= array_2"
   ]
  },
  {
   "cell_type": "markdown",
   "id": "cfe6fa8b",
   "metadata": {},
   "source": [
    "# sorting Arrays Arrays"
   ]
  },
  {
   "cell_type": "code",
   "execution_count": null,
   "id": "7fcf9106",
   "metadata": {},
   "outputs": [],
   "source": [
    "np.sort(array_1)"
   ]
  },
  {
   "cell_type": "code",
   "execution_count": null,
   "id": "daaac166",
   "metadata": {},
   "outputs": [],
   "source": [
    "# Provides the index of highest num in the array\n",
    "np.argsort(array_1)"
   ]
  },
  {
   "cell_type": "code",
   "execution_count": null,
   "id": "b7bf39ec",
   "metadata": {},
   "outputs": [],
   "source": [
    "np.argmax(array_1)"
   ]
  },
  {
   "cell_type": "code",
   "execution_count": null,
   "id": "f56da31d",
   "metadata": {},
   "outputs": [],
   "source": [
    "np.argmin(array_1)"
   ]
  },
  {
   "cell_type": "markdown",
   "id": "69223aec",
   "metadata": {},
   "source": [
    "<img src=\"imgs/panda.png\" />"
   ]
  },
  {
   "cell_type": "code",
   "execution_count": null,
   "id": "01ca21f9",
   "metadata": {},
   "outputs": [],
   "source": [
    "from matplotlib.image import imread"
   ]
  },
  {
   "cell_type": "code",
   "execution_count": null,
   "id": "fdc2bdba",
   "metadata": {},
   "outputs": [],
   "source": [
    "panda = imread(\"imgs/panda.png\")"
   ]
  },
  {
   "cell_type": "code",
   "execution_count": null,
   "id": "c3c439c3",
   "metadata": {},
   "outputs": [],
   "source": [
    "panda.size , panda.shape"
   ]
  },
  {
   "cell_type": "code",
   "execution_count": null,
   "id": "08eaad04",
   "metadata": {},
   "outputs": [],
   "source": [
    "car = imread(\"imgs/car-photo.png\")\n",
    "car.size , car.shape"
   ]
  },
  {
   "cell_type": "code",
   "execution_count": null,
   "id": "4a1e476a",
   "metadata": {},
   "outputs": [],
   "source": [
    "dog = imread(\"imgs/dog-photo.png\")\n",
    "dog.size ,dog.shape"
   ]
  },
  {
   "cell_type": "code",
   "execution_count": null,
   "id": "b5af4b88",
   "metadata": {},
   "outputs": [],
   "source": []
  },
  {
   "cell_type": "code",
   "execution_count": null,
   "id": "d6c28e0a",
   "metadata": {},
   "outputs": [],
   "source": []
  }
 ],
 "metadata": {
  "hide_input": false,
  "kernelspec": {
   "display_name": "Python 3 (ipykernel)",
   "language": "python",
   "name": "python3"
  },
  "language_info": {
   "codemirror_mode": {
    "name": "ipython",
    "version": 3
   },
   "file_extension": ".py",
   "mimetype": "text/x-python",
   "name": "python",
   "nbconvert_exporter": "python",
   "pygments_lexer": "ipython3",
   "version": "3.11.3"
  },
  "toc": {
   "base_numbering": 1,
   "nav_menu": {},
   "number_sections": true,
   "sideBar": true,
   "skip_h1_title": false,
   "title_cell": "Table of Contents",
   "title_sidebar": "Contents",
   "toc_cell": false,
   "toc_position": {},
   "toc_section_display": true,
   "toc_window_display": false
  },
  "varInspector": {
   "cols": {
    "lenName": 16,
    "lenType": 16,
    "lenVar": 40
   },
   "kernels_config": {
    "python": {
     "delete_cmd_postfix": "",
     "delete_cmd_prefix": "del ",
     "library": "var_list.py",
     "varRefreshCmd": "print(var_dic_list())"
    },
    "r": {
     "delete_cmd_postfix": ") ",
     "delete_cmd_prefix": "rm(",
     "library": "var_list.r",
     "varRefreshCmd": "cat(var_dic_list()) "
    }
   },
   "types_to_exclude": [
    "module",
    "function",
    "builtin_function_or_method",
    "instance",
    "_Feature"
   ],
   "window_display": false
  }
 },
 "nbformat": 4,
 "nbformat_minor": 5
}
